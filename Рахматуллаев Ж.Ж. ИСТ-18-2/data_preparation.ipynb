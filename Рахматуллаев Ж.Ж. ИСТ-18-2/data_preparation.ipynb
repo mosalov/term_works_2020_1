{
  "cells":[
    {
      "cell_type":"code",
      "source":[
        "# Загрузка зависимостей\n",
        "import numpy as np\n",
        "import pandas as pd\n",
        "import matplotlib.pyplot as plt\n",
        "from sklearn.preprocessing import StandardScaler\n",
        "from sklearn.preprocessing import MinMaxScaler"
      ],
      "execution_count":1,
      "outputs":[
        
      ],
      "metadata":{
        
      }
    },
    {
      "cell_type":"code",
      "source":[
        "# Загрузка и анализ набора данных\n",
        "brave_heart_dataset = pd.read_csv('Набор_4_болезни_сердца.csv',  sep=';')\n",
        "brave_heart_dataset.head(10)"
      ],
      "execution_count":2,
      "outputs":[
        {
          "data":{
            "text\/html":[
              "<div>\n",
              "<style scoped>\n",
              "    .dataframe tbody tr th:only-of-type {\n",
              "        vertical-align: middle;\n",
              "    }\n",
              "\n",
              "    .dataframe tbody tr th {\n",
              "        vertical-align: top;\n",
              "    }\n",
              "\n",
              "    .dataframe thead th {\n",
              "        text-align: right;\n",
              "    }\n",
              "<\/style>\n",
              "<table border=\"1\" class=\"dataframe\">\n",
              "  <thead>\n",
              "    <tr style=\"text-align: right;\">\n",
              "      <th><\/th>\n",
              "      <th>age<\/th>\n",
              "      <th>sex<\/th>\n",
              "      <th>cp<\/th>\n",
              "      <th>trestbps<\/th>\n",
              "      <th>chol<\/th>\n",
              "      <th>fbs<\/th>\n",
              "      <th>restecg<\/th>\n",
              "      <th>thalach<\/th>\n",
              "      <th>exang<\/th>\n",
              "      <th>oldpeak<\/th>\n",
              "      <th>slope<\/th>\n",
              "      <th>ca<\/th>\n",
              "      <th>num<\/th>\n",
              "    <\/tr>\n",
              "  <\/thead>\n",
              "  <tbody>\n",
              "    <tr>\n",
              "      <th>0<\/th>\n",
              "      <td>63<\/td>\n",
              "      <td>1<\/td>\n",
              "      <td>3<\/td>\n",
              "      <td>145<\/td>\n",
              "      <td>233<\/td>\n",
              "      <td>1<\/td>\n",
              "      <td>0<\/td>\n",
              "      <td>150<\/td>\n",
              "      <td>0<\/td>\n",
              "      <td>2.3<\/td>\n",
              "      <td>0<\/td>\n",
              "      <td>0<\/td>\n",
              "      <td>1<\/td>\n",
              "    <\/tr>\n",
              "    <tr>\n",
              "      <th>1<\/th>\n",
              "      <td>37<\/td>\n",
              "      <td>1<\/td>\n",
              "      <td>2<\/td>\n",
              "      <td>130<\/td>\n",
              "      <td>250<\/td>\n",
              "      <td>0<\/td>\n",
              "      <td>1<\/td>\n",
              "      <td>187<\/td>\n",
              "      <td>0<\/td>\n",
              "      <td>3.5<\/td>\n",
              "      <td>0<\/td>\n",
              "      <td>0<\/td>\n",
              "      <td>1<\/td>\n",
              "    <\/tr>\n",
              "    <tr>\n",
              "      <th>2<\/th>\n",
              "      <td>41<\/td>\n",
              "      <td>0<\/td>\n",
              "      <td>1<\/td>\n",
              "      <td>130<\/td>\n",
              "      <td>204<\/td>\n",
              "      <td>0<\/td>\n",
              "      <td>0<\/td>\n",
              "      <td>172<\/td>\n",
              "      <td>0<\/td>\n",
              "      <td>1.4<\/td>\n",
              "      <td>2<\/td>\n",
              "      <td>0<\/td>\n",
              "      <td>1<\/td>\n",
              "    <\/tr>\n",
              "    <tr>\n",
              "      <th>3<\/th>\n",
              "      <td>56<\/td>\n",
              "      <td>1<\/td>\n",
              "      <td>1<\/td>\n",
              "      <td>120<\/td>\n",
              "      <td>236<\/td>\n",
              "      <td>0<\/td>\n",
              "      <td>1<\/td>\n",
              "      <td>178<\/td>\n",
              "      <td>0<\/td>\n",
              "      <td>0.8<\/td>\n",
              "      <td>2<\/td>\n",
              "      <td>0<\/td>\n",
              "      <td>1<\/td>\n",
              "    <\/tr>\n",
              "    <tr>\n",
              "      <th>4<\/th>\n",
              "      <td>57<\/td>\n",
              "      <td>0<\/td>\n",
              "      <td>0<\/td>\n",
              "      <td>120<\/td>\n",
              "      <td>354<\/td>\n",
              "      <td>0<\/td>\n",
              "      <td>1<\/td>\n",
              "      <td>163<\/td>\n",
              "      <td>1<\/td>\n",
              "      <td>0.6<\/td>\n",
              "      <td>2<\/td>\n",
              "      <td>0<\/td>\n",
              "      <td>1<\/td>\n",
              "    <\/tr>\n",
              "    <tr>\n",
              "      <th>5<\/th>\n",
              "      <td>57<\/td>\n",
              "      <td>1<\/td>\n",
              "      <td>0<\/td>\n",
              "      <td>140<\/td>\n",
              "      <td>192<\/td>\n",
              "      <td>0<\/td>\n",
              "      <td>1<\/td>\n",
              "      <td>148<\/td>\n",
              "      <td>0<\/td>\n",
              "      <td>0.4<\/td>\n",
              "      <td>1<\/td>\n",
              "      <td>0<\/td>\n",
              "      <td>1<\/td>\n",
              "    <\/tr>\n",
              "    <tr>\n",
              "      <th>6<\/th>\n",
              "      <td>56<\/td>\n",
              "      <td>0<\/td>\n",
              "      <td>1<\/td>\n",
              "      <td>140<\/td>\n",
              "      <td>294<\/td>\n",
              "      <td>0<\/td>\n",
              "      <td>0<\/td>\n",
              "      <td>153<\/td>\n",
              "      <td>0<\/td>\n",
              "      <td>1.3<\/td>\n",
              "      <td>1<\/td>\n",
              "      <td>0<\/td>\n",
              "      <td>1<\/td>\n",
              "    <\/tr>\n",
              "    <tr>\n",
              "      <th>7<\/th>\n",
              "      <td>44<\/td>\n",
              "      <td>1<\/td>\n",
              "      <td>1<\/td>\n",
              "      <td>120<\/td>\n",
              "      <td>263<\/td>\n",
              "      <td>0<\/td>\n",
              "      <td>1<\/td>\n",
              "      <td>173<\/td>\n",
              "      <td>0<\/td>\n",
              "      <td>0.0<\/td>\n",
              "      <td>2<\/td>\n",
              "      <td>0<\/td>\n",
              "      <td>1<\/td>\n",
              "    <\/tr>\n",
              "    <tr>\n",
              "      <th>8<\/th>\n",
              "      <td>52<\/td>\n",
              "      <td>1<\/td>\n",
              "      <td>2<\/td>\n",
              "      <td>172<\/td>\n",
              "      <td>199<\/td>\n",
              "      <td>1<\/td>\n",
              "      <td>1<\/td>\n",
              "      <td>162<\/td>\n",
              "      <td>0<\/td>\n",
              "      <td>0.5<\/td>\n",
              "      <td>2<\/td>\n",
              "      <td>0<\/td>\n",
              "      <td>1<\/td>\n",
              "    <\/tr>\n",
              "    <tr>\n",
              "      <th>9<\/th>\n",
              "      <td>57<\/td>\n",
              "      <td>1<\/td>\n",
              "      <td>2<\/td>\n",
              "      <td>150<\/td>\n",
              "      <td>168<\/td>\n",
              "      <td>0<\/td>\n",
              "      <td>1<\/td>\n",
              "      <td>174<\/td>\n",
              "      <td>0<\/td>\n",
              "      <td>1.6<\/td>\n",
              "      <td>2<\/td>\n",
              "      <td>0<\/td>\n",
              "      <td>1<\/td>\n",
              "    <\/tr>\n",
              "  <\/tbody>\n",
              "<\/table>\n",
              "<\/div>"
            ]
          },
          "metadata":{
            
          },
          "output_type":"display_data"
        }
      ],
      "metadata":{
        
      }
    },
    {
      "cell_type":"code",
      "source":[
        "# Создаем набор данных, в котором будут храниться обработанные данные\n",
        "dataset = pd.DataFrame()"
      ],
      "execution_count":3,
      "outputs":[
        
      ],
      "metadata":{
        
      }
    },
    {
      "cell_type":"code",
      "source":[
        "data = brave_heart_dataset['age']\n",
        "plt.hist(data, bins = 50)\n",
        "plt.show()"
      ],
      "execution_count":4,
      "outputs":[
        {
          "data":{
            "image\/png":"[encoded data removed]"
          },
          "metadata":{
            "image\/png":{
              "width":0,
              "height":0
            }
          },
          "output_type":"display_data"
        }
      ],
      "metadata":{
        
      }
    },
    {
      "cell_type":"code",
      "source":[
        "plt.hist(data ** 0.5, bins = 50)\n",
        "plt.show()\n",
        "plt.hist(np.log(data), bins = 50)\n",
        "plt.show()"
      ],
      "execution_count":5,
      "outputs":[
        {
          "data":{
            "image\/png":"[encoded data removed]"
          },
          "metadata":{
            "image\/png":{
              "width":0,
              "height":0
            }
          },
          "output_type":"display_data"
        }
      ],
      "metadata":{
        
      }
    },
    {
      "cell_type":"code",
      "source":[
        "data = np.array(np.log(data)).reshape(-1, 1)\n",
        "dataset['age'] = StandardScaler().fit_transform(data).flatten()\n",
        "dataset.head(10)"
      ],
      "execution_count":6,
      "outputs":[
        {
          "data":{
            "text\/html":[
              "<div>\n",
              "<style scoped>\n",
              "    .dataframe tbody tr th:only-of-type {\n",
              "        vertical-align: middle;\n",
              "    }\n",
              "\n",
              "    .dataframe tbody tr th {\n",
              "        vertical-align: top;\n",
              "    }\n",
              "\n",
              "    .dataframe thead th {\n",
              "        text-align: right;\n",
              "    }\n",
              "<\/style>\n",
              "<table border=\"1\" class=\"dataframe\">\n",
              "  <thead>\n",
              "    <tr style=\"text-align: right;\">\n",
              "      <th><\/th>\n",
              "      <th>age<\/th>\n",
              "    <\/tr>\n",
              "  <\/thead>\n",
              "  <tbody>\n",
              "    <tr>\n",
              "      <th>0<\/th>\n",
              "      <td>0.927622<\/td>\n",
              "    <\/tr>\n",
              "    <tr>\n",
              "      <th>1<\/th>\n",
              "      <td>-2.117138<\/td>\n",
              "    <\/tr>\n",
              "    <tr>\n",
              "      <th>2<\/th>\n",
              "      <td>-1.529863<\/td>\n",
              "    <\/tr>\n",
              "    <tr>\n",
              "      <th>3<\/th>\n",
              "      <td>0.253797<\/td>\n",
              "    <\/tr>\n",
              "    <tr>\n",
              "      <th>4<\/th>\n",
              "      <td>0.355054<\/td>\n",
              "    <\/tr>\n",
              "    <tr>\n",
              "      <th>5<\/th>\n",
              "      <td>0.355054<\/td>\n",
              "    <\/tr>\n",
              "    <tr>\n",
              "      <th>6<\/th>\n",
              "      <td>0.253797<\/td>\n",
              "    <\/tr>\n",
              "    <tr>\n",
              "      <th>7<\/th>\n",
              "      <td>-1.125867<\/td>\n",
              "    <\/tr>\n",
              "    <tr>\n",
              "      <th>8<\/th>\n",
              "      <td>-0.170168<\/td>\n",
              "    <\/tr>\n",
              "    <tr>\n",
              "      <th>9<\/th>\n",
              "      <td>0.355054<\/td>\n",
              "    <\/tr>\n",
              "  <\/tbody>\n",
              "<\/table>\n",
              "<\/div>"
            ]
          },
          "metadata":{
            
          },
          "output_type":"display_data"
        }
      ],
      "metadata":{
        
      }
    },
    {
      "cell_type":"code",
      "source":[
        "data = brave_heart_dataset['sex']\n",
        "plt.hist(data, bins = 50)\n",
        "plt.show()"
      ],
      "execution_count":7,
      "outputs":[
        {
          "data":{
            "image\/png":"[encoded data removed]"
          },
          "metadata":{
            "image\/png":{
              "width":0,
              "height":0
            }
          },
          "output_type":"display_data"
        }
      ],
      "metadata":{
        
      }
    },
    {
      "cell_type":"code",
      "source":[
        "data = np.clip(data, 0, 200000)\n",
        "plt.hist(data, bins = 50)\n",
        "plt.show()"
      ],
      "execution_count":8,
      "outputs":[
        {
          "data":{
            "image\/png":"[encoded data removed]"
          },
          "metadata":{
            "image\/png":{
              "width":0,
              "height":0
            }
          },
          "output_type":"display_data"
        }
      ],
      "metadata":{
        
      }
    },
    {
      "cell_type":"code",
      "source":[
        "data = data.replace(0, data.mean())\n",
        "plt.hist(data, bins = 50)\n",
        "plt.show()"
      ],
      "execution_count":9,
      "outputs":[
        {
          "data":{
            "image\/png":"[encoded data removed]"
          },
          "metadata":{
            "image\/png":{
              "width":0,
              "height":0
            }
          },
          "output_type":"display_data"
        }
      ],
      "metadata":{
        
      }
    },
    {
      "cell_type":"code",
      "source":[
        "data = np.array(data ** 0.5).reshape(-1, 1)\n",
        "dataset['sex'] = MinMaxScaler().fit_transform(data).flatten()"
      ],
      "execution_count":10,
      "outputs":[
        
      ],
      "metadata":{
        
      }
    },
    {
      "cell_type":"code",
      "source":[
        "dataset.head(10)"
      ],
      "execution_count":11,
      "outputs":[
        {
          "data":{
            "text\/html":[
              "<div>\n",
              "<style scoped>\n",
              "    .dataframe tbody tr th:only-of-type {\n",
              "        vertical-align: middle;\n",
              "    }\n",
              "\n",
              "    .dataframe tbody tr th {\n",
              "        vertical-align: top;\n",
              "    }\n",
              "\n",
              "    .dataframe thead th {\n",
              "        text-align: right;\n",
              "    }\n",
              "<\/style>\n",
              "<table border=\"1\" class=\"dataframe\">\n",
              "  <thead>\n",
              "    <tr style=\"text-align: right;\">\n",
              "      <th><\/th>\n",
              "      <th>age<\/th>\n",
              "      <th>sex<\/th>\n",
              "    <\/tr>\n",
              "  <\/thead>\n",
              "  <tbody>\n",
              "    <tr>\n",
              "      <th>0<\/th>\n",
              "      <td>0.927622<\/td>\n",
              "      <td>1.0<\/td>\n",
              "    <\/tr>\n",
              "    <tr>\n",
              "      <th>1<\/th>\n",
              "      <td>-2.117138<\/td>\n",
              "      <td>1.0<\/td>\n",
              "    <\/tr>\n",
              "    <tr>\n",
              "      <th>2<\/th>\n",
              "      <td>-1.529863<\/td>\n",
              "      <td>0.0<\/td>\n",
              "    <\/tr>\n",
              "    <tr>\n",
              "      <th>3<\/th>\n",
              "      <td>0.253797<\/td>\n",
              "      <td>1.0<\/td>\n",
              "    <\/tr>\n",
              "    <tr>\n",
              "      <th>4<\/th>\n",
              "      <td>0.355054<\/td>\n",
              "      <td>0.0<\/td>\n",
              "    <\/tr>\n",
              "    <tr>\n",
              "      <th>5<\/th>\n",
              "      <td>0.355054<\/td>\n",
              "      <td>1.0<\/td>\n",
              "    <\/tr>\n",
              "    <tr>\n",
              "      <th>6<\/th>\n",
              "      <td>0.253797<\/td>\n",
              "      <td>0.0<\/td>\n",
              "    <\/tr>\n",
              "    <tr>\n",
              "      <th>7<\/th>\n",
              "      <td>-1.125867<\/td>\n",
              "      <td>1.0<\/td>\n",
              "    <\/tr>\n",
              "    <tr>\n",
              "      <th>8<\/th>\n",
              "      <td>-0.170168<\/td>\n",
              "      <td>1.0<\/td>\n",
              "    <\/tr>\n",
              "    <tr>\n",
              "      <th>9<\/th>\n",
              "      <td>0.355054<\/td>\n",
              "      <td>1.0<\/td>\n",
              "    <\/tr>\n",
              "  <\/tbody>\n",
              "<\/table>\n",
              "<\/div>"
            ]
          },
          "metadata":{
            
          },
          "output_type":"display_data"
        }
      ],
      "metadata":{
        
      }
    },
    {
      "cell_type":"code",
      "source":[
        "data = brave_heart_dataset['cp']\n",
        "plt.hist(data, bins = 50)\n",
        "plt.show()"
      ],
      "execution_count":12,
      "outputs":[
        {
          "data":{
            "image\/png":"[encoded data removed]"
          },
          "metadata":{
            "image\/png":{
              "width":0,
              "height":0
            }
          },
          "output_type":"display_data"
        }
      ],
      "metadata":{
        
      }
    },
    {
      "cell_type":"code",
      "source":[
        "data = np.clip(data, 0, 100000)\n",
        "plt.hist(data, bins = 50)\n",
        "plt.show()"
      ],
      "execution_count":13,
      "outputs":[
        {
          "data":{
            "image\/png":"[encoded data removed]"
          },
          "metadata":{
            "image\/png":{
              "width":0,
              "height":0
            }
          },
          "output_type":"display_data"
        }
      ],
      "metadata":{
        
      }
    },
    {
      "cell_type":"code",
      "source":[
        "plt.hist(data ** 0.5, bins = 50)\n",
        "plt.show()"
      ],
      "execution_count":14,
      "outputs":[
        {
          "data":{
            "image\/png":"[encoded data removed]"
          },
          "metadata":{
            "image\/png":{
              "width":0,
              "height":0
            }
          },
          "output_type":"display_data"
        }
      ],
      "metadata":{
        
      }
    },
    {
      "cell_type":"code",
      "source":[
        "data = np.array(data ** 0.5).reshape(-1, 1)\n",
        "dataset['cp'] = MinMaxScaler().fit_transform(data).flatten()\n",
        "dataset.head(10)"
      ],
      "execution_count":15,
      "outputs":[
        {
          "data":{
            "text\/html":[
              "<div>\n",
              "<style scoped>\n",
              "    .dataframe tbody tr th:only-of-type {\n",
              "        vertical-align: middle;\n",
              "    }\n",
              "\n",
              "    .dataframe tbody tr th {\n",
              "        vertical-align: top;\n",
              "    }\n",
              "\n",
              "    .dataframe thead th {\n",
              "        text-align: right;\n",
              "    }\n",
              "<\/style>\n",
              "<table border=\"1\" class=\"dataframe\">\n",
              "  <thead>\n",
              "    <tr style=\"text-align: right;\">\n",
              "      <th><\/th>\n",
              "      <th>age<\/th>\n",
              "      <th>sex<\/th>\n",
              "      <th>cp<\/th>\n",
              "    <\/tr>\n",
              "  <\/thead>\n",
              "  <tbody>\n",
              "    <tr>\n",
              "      <th>0<\/th>\n",
              "      <td>0.927622<\/td>\n",
              "      <td>1.0<\/td>\n",
              "      <td>1.000000<\/td>\n",
              "    <\/tr>\n",
              "    <tr>\n",
              "      <th>1<\/th>\n",
              "      <td>-2.117138<\/td>\n",
              "      <td>1.0<\/td>\n",
              "      <td>0.816497<\/td>\n",
              "    <\/tr>\n",
              "    <tr>\n",
              "      <th>2<\/th>\n",
              "      <td>-1.529863<\/td>\n",
              "      <td>0.0<\/td>\n",
              "      <td>0.577350<\/td>\n",
              "    <\/tr>\n",
              "    <tr>\n",
              "      <th>3<\/th>\n",
              "      <td>0.253797<\/td>\n",
              "      <td>1.0<\/td>\n",
              "      <td>0.577350<\/td>\n",
              "    <\/tr>\n",
              "    <tr>\n",
              "      <th>4<\/th>\n",
              "      <td>0.355054<\/td>\n",
              "      <td>0.0<\/td>\n",
              "      <td>0.000000<\/td>\n",
              "    <\/tr>\n",
              "    <tr>\n",
              "      <th>5<\/th>\n",
              "      <td>0.355054<\/td>\n",
              "      <td>1.0<\/td>\n",
              "      <td>0.000000<\/td>\n",
              "    <\/tr>\n",
              "    <tr>\n",
              "      <th>6<\/th>\n",
              "      <td>0.253797<\/td>\n",
              "      <td>0.0<\/td>\n",
              "      <td>0.577350<\/td>\n",
              "    <\/tr>\n",
              "    <tr>\n",
              "      <th>7<\/th>\n",
              "      <td>-1.125867<\/td>\n",
              "      <td>1.0<\/td>\n",
              "      <td>0.577350<\/td>\n",
              "    <\/tr>\n",
              "    <tr>\n",
              "      <th>8<\/th>\n",
              "      <td>-0.170168<\/td>\n",
              "      <td>1.0<\/td>\n",
              "      <td>0.816497<\/td>\n",
              "    <\/tr>\n",
              "    <tr>\n",
              "      <th>9<\/th>\n",
              "      <td>0.355054<\/td>\n",
              "      <td>1.0<\/td>\n",
              "      <td>0.816497<\/td>\n",
              "    <\/tr>\n",
              "  <\/tbody>\n",
              "<\/table>\n",
              "<\/div>"
            ]
          },
          "metadata":{
            
          },
          "output_type":"display_data"
        }
      ],
      "metadata":{
        
      }
    },
    {
      "cell_type":"code",
      "source":[
        "data = brave_heart_dataset['trestbps']\n",
        "plt.hist(data, bins = 50)\n",
        "plt.show()"
      ],
      "execution_count":16,
      "outputs":[
        {
          "data":{
            "image\/png":"[encoded data removed]"
          },
          "metadata":{
            "image\/png":{
              "width":0,
              "height":0
            }
          },
          "output_type":"display_data"
        }
      ],
      "metadata":{
        
      }
    },
    {
      "cell_type":"code",
      "source":[
        "data = np.clip(data, 0, 181)\n",
        "plt.hist(data, bins = 50)\n",
        "plt.show()"
      ],
      "execution_count":17,
      "outputs":[
        {
          "data":{
            "image\/png":"[encoded data removed]"
          },
          "metadata":{
            "image\/png":{
              "width":0,
              "height":0
            }
          },
          "output_type":"display_data"
        }
      ],
      "metadata":{
        
      }
    },
    {
      "cell_type":"code",
      "source":[
        "data = data.replace(0, data.mean())\n",
        "plt.hist(data, bins = 50)\n",
        "plt.show()"
      ],
      "execution_count":18,
      "outputs":[
        {
          "data":{
            "image\/png":"[encoded data removed]"
          },
          "metadata":{
            "image\/png":{
              "width":0,
              "height":0
            }
          },
          "output_type":"display_data"
        }
      ],
      "metadata":{
        
      }
    },
    {
      "cell_type":"code",
      "source":[
        "plt.hist(data ** 0.5, bins = 50)\n",
        "plt.show()\n",
        "plt.hist(np.log(data), bins = 50)\n",
        "plt.show()"
      ],
      "execution_count":19,
      "outputs":[
        {
          "data":{
            "image\/png":"[encoded data removed]"
          },
          "metadata":{
            "image\/png":{
              "width":0,
              "height":0
            }
          },
          "output_type":"display_data"
        }
      ],
      "metadata":{
        
      }
    },
    {
      "cell_type":"code",
      "source":[
        "data = np.array(data ** 0.5).reshape(-1, 1)\n",
        "dataset['trestbps'] = MinMaxScaler().fit_transform(data).flatten()\n",
        "dataset.head(10)"
      ],
      "execution_count":20,
      "outputs":[
        {
          "data":{
            "text\/html":[
              "<div>\n",
              "<style scoped>\n",
              "    .dataframe tbody tr th:only-of-type {\n",
              "        vertical-align: middle;\n",
              "    }\n",
              "\n",
              "    .dataframe tbody tr th {\n",
              "        vertical-align: top;\n",
              "    }\n",
              "\n",
              "    .dataframe thead th {\n",
              "        text-align: right;\n",
              "    }\n",
              "<\/style>\n",
              "<table border=\"1\" class=\"dataframe\">\n",
              "  <thead>\n",
              "    <tr style=\"text-align: right;\">\n",
              "      <th><\/th>\n",
              "      <th>age<\/th>\n",
              "      <th>sex<\/th>\n",
              "      <th>cp<\/th>\n",
              "      <th>trestbps<\/th>\n",
              "    <\/tr>\n",
              "  <\/thead>\n",
              "  <tbody>\n",
              "    <tr>\n",
              "      <th>0<\/th>\n",
              "      <td>0.927622<\/td>\n",
              "      <td>1.0<\/td>\n",
              "      <td>1.000000<\/td>\n",
              "      <td>0.624287<\/td>\n",
              "    <\/tr>\n",
              "    <tr>\n",
              "      <th>1<\/th>\n",
              "      <td>-2.117138<\/td>\n",
              "      <td>1.0<\/td>\n",
              "      <td>0.816497<\/td>\n",
              "      <td>0.454038<\/td>\n",
              "    <\/tr>\n",
              "    <tr>\n",
              "      <th>2<\/th>\n",
              "      <td>-1.529863<\/td>\n",
              "      <td>0.0<\/td>\n",
              "      <td>0.577350<\/td>\n",
              "      <td>0.454038<\/td>\n",
              "    <\/tr>\n",
              "    <tr>\n",
              "      <th>3<\/th>\n",
              "      <td>0.253797<\/td>\n",
              "      <td>1.0<\/td>\n",
              "      <td>0.577350<\/td>\n",
              "      <td>0.335019<\/td>\n",
              "    <\/tr>\n",
              "    <tr>\n",
              "      <th>4<\/th>\n",
              "      <td>0.355054<\/td>\n",
              "      <td>0.0<\/td>\n",
              "      <td>0.000000<\/td>\n",
              "      <td>0.335019<\/td>\n",
              "    <\/tr>\n",
              "    <tr>\n",
              "      <th>5<\/th>\n",
              "      <td>0.355054<\/td>\n",
              "      <td>1.0<\/td>\n",
              "      <td>0.000000<\/td>\n",
              "      <td>0.568560<\/td>\n",
              "    <\/tr>\n",
              "    <tr>\n",
              "      <th>6<\/th>\n",
              "      <td>0.253797<\/td>\n",
              "      <td>0.0<\/td>\n",
              "      <td>0.577350<\/td>\n",
              "      <td>0.568560<\/td>\n",
              "    <\/tr>\n",
              "    <tr>\n",
              "      <th>7<\/th>\n",
              "      <td>-1.125867<\/td>\n",
              "      <td>1.0<\/td>\n",
              "      <td>0.577350<\/td>\n",
              "      <td>0.335019<\/td>\n",
              "    <\/tr>\n",
              "    <tr>\n",
              "      <th>8<\/th>\n",
              "      <td>-0.170168<\/td>\n",
              "      <td>1.0<\/td>\n",
              "      <td>0.816497<\/td>\n",
              "      <td>0.909866<\/td>\n",
              "    <\/tr>\n",
              "    <tr>\n",
              "      <th>9<\/th>\n",
              "      <td>0.355054<\/td>\n",
              "      <td>1.0<\/td>\n",
              "      <td>0.816497<\/td>\n",
              "      <td>0.679061<\/td>\n",
              "    <\/tr>\n",
              "  <\/tbody>\n",
              "<\/table>\n",
              "<\/div>"
            ]
          },
          "metadata":{
            
          },
          "output_type":"display_data"
        }
      ],
      "metadata":{
        
      }
    },
    {
      "cell_type":"code",
      "source":[
        "data = brave_heart_dataset['chol']\n",
        "plt.hist(data, bins = 50)\n",
        "plt.show()"
      ],
      "execution_count":21,
      "outputs":[
        {
          "data":{
            "image\/png":"[encoded data removed]"
          },
          "metadata":{
            "image\/png":{
              "width":0,
              "height":0
            }
          },
          "output_type":"display_data"
        }
      ],
      "metadata":{
        
      }
    },
    {
      "cell_type":"code",
      "source":[
        "data = np.clip(data, 0, 350)\n",
        "plt.hist(data, bins = 50)\n",
        "plt.show()"
      ],
      "execution_count":22,
      "outputs":[
        {
          "data":{
            "image\/png":"[encoded data removed]"
          },
          "metadata":{
            "image\/png":{
              "width":0,
              "height":0
            }
          },
          "output_type":"display_data"
        }
      ],
      "metadata":{
        
      }
    },
    {
      "cell_type":"code",
      "source":[
        "plt.hist(data ** 0.5, bins = 50)\n",
        "plt.show()\n",
        "plt.hist(np.log(data), bins = 50)\n",
        "plt.show()"
      ],
      "execution_count":23,
      "outputs":[
        {
          "data":{
            "image\/png":"[encoded data removed]"
          },
          "metadata":{
            "image\/png":{
              "width":0,
              "height":0
            }
          },
          "output_type":"display_data"
        }
      ],
      "metadata":{
        
      }
    },
    {
      "cell_type":"code",
      "source":[
        "data = np.array(data ** 0.5).reshape(-1, 1)\n",
        "dataset['chol'] = StandardScaler().fit_transform(data).flatten()\n",
        "dataset.head(10)"
      ],
      "execution_count":24,
      "outputs":[
        {
          "data":{
            "text\/html":[
              "<div>\n",
              "<style scoped>\n",
              "    .dataframe tbody tr th:only-of-type {\n",
              "        vertical-align: middle;\n",
              "    }\n",
              "\n",
              "    .dataframe tbody tr th {\n",
              "        vertical-align: top;\n",
              "    }\n",
              "\n",
              "    .dataframe thead th {\n",
              "        text-align: right;\n",
              "    }\n",
              "<\/style>\n",
              "<table border=\"1\" class=\"dataframe\">\n",
              "  <thead>\n",
              "    <tr style=\"text-align: right;\">\n",
              "      <th><\/th>\n",
              "      <th>age<\/th>\n",
              "      <th>sex<\/th>\n",
              "      <th>cp<\/th>\n",
              "      <th>trestbps<\/th>\n",
              "      <th>chol<\/th>\n",
              "    <\/tr>\n",
              "  <\/thead>\n",
              "  <tbody>\n",
              "    <tr>\n",
              "      <th>0<\/th>\n",
              "      <td>0.927622<\/td>\n",
              "      <td>1.0<\/td>\n",
              "      <td>1.000000<\/td>\n",
              "      <td>0.624287<\/td>\n",
              "      <td>-0.206993<\/td>\n",
              "    <\/tr>\n",
              "    <tr>\n",
              "      <th>1<\/th>\n",
              "      <td>-2.117138<\/td>\n",
              "      <td>1.0<\/td>\n",
              "      <td>0.816497<\/td>\n",
              "      <td>0.454038<\/td>\n",
              "      <td>0.159591<\/td>\n",
              "    <\/tr>\n",
              "    <tr>\n",
              "      <th>2<\/th>\n",
              "      <td>-1.529863<\/td>\n",
              "      <td>0.0<\/td>\n",
              "      <td>0.577350<\/td>\n",
              "      <td>0.454038<\/td>\n",
              "      <td>-0.864692<\/td>\n",
              "    <\/tr>\n",
              "    <tr>\n",
              "      <th>3<\/th>\n",
              "      <td>0.253797<\/td>\n",
              "      <td>1.0<\/td>\n",
              "      <td>0.577350<\/td>\n",
              "      <td>0.335019<\/td>\n",
              "      <td>-0.141353<\/td>\n",
              "    <\/tr>\n",
              "    <tr>\n",
              "      <th>4<\/th>\n",
              "      <td>0.355054<\/td>\n",
              "      <td>0.0<\/td>\n",
              "      <td>0.000000<\/td>\n",
              "      <td>0.335019<\/td>\n",
              "      <td>2.100829<\/td>\n",
              "    <\/tr>\n",
              "    <tr>\n",
              "      <th>5<\/th>\n",
              "      <td>0.355054<\/td>\n",
              "      <td>1.0<\/td>\n",
              "      <td>0.000000<\/td>\n",
              "      <td>0.568560<\/td>\n",
              "      <td>-1.150460<\/td>\n",
              "    <\/tr>\n",
              "    <tr>\n",
              "      <th>6<\/th>\n",
              "      <td>0.253797<\/td>\n",
              "      <td>0.0<\/td>\n",
              "      <td>0.577350<\/td>\n",
              "      <td>0.568560<\/td>\n",
              "      <td>1.054214<\/td>\n",
              "    <\/tr>\n",
              "    <tr>\n",
              "      <th>7<\/th>\n",
              "      <td>-1.125867<\/td>\n",
              "      <td>1.0<\/td>\n",
              "      <td>0.577350<\/td>\n",
              "      <td>0.335019<\/td>\n",
              "      <td>0.431579<\/td>\n",
              "    <\/tr>\n",
              "    <tr>\n",
              "      <th>8<\/th>\n",
              "      <td>-0.170168<\/td>\n",
              "      <td>1.0<\/td>\n",
              "      <td>0.816497<\/td>\n",
              "      <td>0.909866<\/td>\n",
              "      <td>-0.982712<\/td>\n",
              "    <\/tr>\n",
              "    <tr>\n",
              "      <th>9<\/th>\n",
              "      <td>0.355054<\/td>\n",
              "      <td>1.0<\/td>\n",
              "      <td>0.816497<\/td>\n",
              "      <td>0.679061<\/td>\n",
              "      <td>-1.750157<\/td>\n",
              "    <\/tr>\n",
              "  <\/tbody>\n",
              "<\/table>\n",
              "<\/div>"
            ]
          },
          "metadata":{
            
          },
          "output_type":"display_data"
        }
      ],
      "metadata":{
        
      }
    },
    {
      "cell_type":"code",
      "source":[
        "data = brave_heart_dataset['fbs']\n",
        "plt.hist(data, bins = 50)\n",
        "plt.show()"
      ],
      "execution_count":25,
      "outputs":[
        {
          "data":{
            "image\/png":"[encoded data removed]"
          },
          "metadata":{
            "image\/png":{
              "width":0,
              "height":0
            }
          },
          "output_type":"display_data"
        }
      ],
      "metadata":{
        
      }
    },
    {
      "cell_type":"code",
      "source":[
        "data = np.array(data ** 0.5).reshape(-1, 1)\n",
        "dataset['fbs'] = MinMaxScaler().fit_transform(data).flatten()\n",
        "dataset.head(10)"
      ],
      "execution_count":26,
      "outputs":[
        {
          "data":{
            "text\/html":[
              "<div>\n",
              "<style scoped>\n",
              "    .dataframe tbody tr th:only-of-type {\n",
              "        vertical-align: middle;\n",
              "    }\n",
              "\n",
              "    .dataframe tbody tr th {\n",
              "        vertical-align: top;\n",
              "    }\n",
              "\n",
              "    .dataframe thead th {\n",
              "        text-align: right;\n",
              "    }\n",
              "<\/style>\n",
              "<table border=\"1\" class=\"dataframe\">\n",
              "  <thead>\n",
              "    <tr style=\"text-align: right;\">\n",
              "      <th><\/th>\n",
              "      <th>age<\/th>\n",
              "      <th>sex<\/th>\n",
              "      <th>cp<\/th>\n",
              "      <th>trestbps<\/th>\n",
              "      <th>chol<\/th>\n",
              "      <th>fbs<\/th>\n",
              "    <\/tr>\n",
              "  <\/thead>\n",
              "  <tbody>\n",
              "    <tr>\n",
              "      <th>0<\/th>\n",
              "      <td>0.927622<\/td>\n",
              "      <td>1.0<\/td>\n",
              "      <td>1.000000<\/td>\n",
              "      <td>0.624287<\/td>\n",
              "      <td>-0.206993<\/td>\n",
              "      <td>1.0<\/td>\n",
              "    <\/tr>\n",
              "    <tr>\n",
              "      <th>1<\/th>\n",
              "      <td>-2.117138<\/td>\n",
              "      <td>1.0<\/td>\n",
              "      <td>0.816497<\/td>\n",
              "      <td>0.454038<\/td>\n",
              "      <td>0.159591<\/td>\n",
              "      <td>0.0<\/td>\n",
              "    <\/tr>\n",
              "    <tr>\n",
              "      <th>2<\/th>\n",
              "      <td>-1.529863<\/td>\n",
              "      <td>0.0<\/td>\n",
              "      <td>0.577350<\/td>\n",
              "      <td>0.454038<\/td>\n",
              "      <td>-0.864692<\/td>\n",
              "      <td>0.0<\/td>\n",
              "    <\/tr>\n",
              "    <tr>\n",
              "      <th>3<\/th>\n",
              "      <td>0.253797<\/td>\n",
              "      <td>1.0<\/td>\n",
              "      <td>0.577350<\/td>\n",
              "      <td>0.335019<\/td>\n",
              "      <td>-0.141353<\/td>\n",
              "      <td>0.0<\/td>\n",
              "    <\/tr>\n",
              "    <tr>\n",
              "      <th>4<\/th>\n",
              "      <td>0.355054<\/td>\n",
              "      <td>0.0<\/td>\n",
              "      <td>0.000000<\/td>\n",
              "      <td>0.335019<\/td>\n",
              "      <td>2.100829<\/td>\n",
              "      <td>0.0<\/td>\n",
              "    <\/tr>\n",
              "    <tr>\n",
              "      <th>5<\/th>\n",
              "      <td>0.355054<\/td>\n",
              "      <td>1.0<\/td>\n",
              "      <td>0.000000<\/td>\n",
              "      <td>0.568560<\/td>\n",
              "      <td>-1.150460<\/td>\n",
              "      <td>0.0<\/td>\n",
              "    <\/tr>\n",
              "    <tr>\n",
              "      <th>6<\/th>\n",
              "      <td>0.253797<\/td>\n",
              "      <td>0.0<\/td>\n",
              "      <td>0.577350<\/td>\n",
              "      <td>0.568560<\/td>\n",
              "      <td>1.054214<\/td>\n",
              "      <td>0.0<\/td>\n",
              "    <\/tr>\n",
              "    <tr>\n",
              "      <th>7<\/th>\n",
              "      <td>-1.125867<\/td>\n",
              "      <td>1.0<\/td>\n",
              "      <td>0.577350<\/td>\n",
              "      <td>0.335019<\/td>\n",
              "      <td>0.431579<\/td>\n",
              "      <td>0.0<\/td>\n",
              "    <\/tr>\n",
              "    <tr>\n",
              "      <th>8<\/th>\n",
              "      <td>-0.170168<\/td>\n",
              "      <td>1.0<\/td>\n",
              "      <td>0.816497<\/td>\n",
              "      <td>0.909866<\/td>\n",
              "      <td>-0.982712<\/td>\n",
              "      <td>1.0<\/td>\n",
              "    <\/tr>\n",
              "    <tr>\n",
              "      <th>9<\/th>\n",
              "      <td>0.355054<\/td>\n",
              "      <td>1.0<\/td>\n",
              "      <td>0.816497<\/td>\n",
              "      <td>0.679061<\/td>\n",
              "      <td>-1.750157<\/td>\n",
              "      <td>0.0<\/td>\n",
              "    <\/tr>\n",
              "  <\/tbody>\n",
              "<\/table>\n",
              "<\/div>"
            ]
          },
          "metadata":{
            
          },
          "output_type":"display_data"
        }
      ],
      "metadata":{
        
      }
    },
    {
      "cell_type":"code",
      "source":[
        "data = brave_heart_dataset['restecg']\n",
        "plt.hist(data, bins = 50)\n",
        "plt.show()"
      ],
      "execution_count":27,
      "outputs":[
        {
          "data":{
            "image\/png":"[encoded data removed]"
          },
          "metadata":{
            "image\/png":{
              "width":0,
              "height":0
            }
          },
          "output_type":"display_data"
        }
      ],
      "metadata":{
        
      }
    },
    {
      "cell_type":"code",
      "source":[
        "data = np.clip(data, 0, 200000)\n",
        "plt.hist(data, bins = 50)\n",
        "plt.show()"
      ],
      "execution_count":28,
      "outputs":[
        {
          "data":{
            "image\/png":"[encoded data removed]"
          },
          "metadata":{
            "image\/png":{
              "width":0,
              "height":0
            }
          },
          "output_type":"display_data"
        }
      ],
      "metadata":{
        
      }
    },
    {
      "cell_type":"code",
      "source":[
        "data = data.replace(0, data.mean())\n",
        "plt.hist(data, bins = 50)\n",
        "plt.show()"
      ],
      "execution_count":29,
      "outputs":[
        {
          "data":{
            "image\/png":"[encoded data removed]"
          },
          "metadata":{
            "image\/png":{
              "width":0,
              "height":0
            }
          },
          "output_type":"display_data"
        }
      ],
      "metadata":{
        
      }
    },
    {
      "cell_type":"code",
      "source":[
        "data = np.array(data ** 0.5).reshape(-1, 1)\n",
        "dataset['restecg'] = MinMaxScaler().fit_transform(data).flatten()\n",
        "dataset.head(10)"
      ],
      "execution_count":30,
      "outputs":[
        {
          "data":{
            "text\/html":[
              "<div>\n",
              "<style scoped>\n",
              "    .dataframe tbody tr th:only-of-type {\n",
              "        vertical-align: middle;\n",
              "    }\n",
              "\n",
              "    .dataframe tbody tr th {\n",
              "        vertical-align: top;\n",
              "    }\n",
              "\n",
              "    .dataframe thead th {\n",
              "        text-align: right;\n",
              "    }\n",
              "<\/style>\n",
              "<table border=\"1\" class=\"dataframe\">\n",
              "  <thead>\n",
              "    <tr style=\"text-align: right;\">\n",
              "      <th><\/th>\n",
              "      <th>age<\/th>\n",
              "      <th>sex<\/th>\n",
              "      <th>cp<\/th>\n",
              "      <th>trestbps<\/th>\n",
              "      <th>chol<\/th>\n",
              "      <th>fbs<\/th>\n",
              "      <th>restecg<\/th>\n",
              "    <\/tr>\n",
              "  <\/thead>\n",
              "  <tbody>\n",
              "    <tr>\n",
              "      <th>0<\/th>\n",
              "      <td>0.927622<\/td>\n",
              "      <td>1.0<\/td>\n",
              "      <td>1.000000<\/td>\n",
              "      <td>0.624287<\/td>\n",
              "      <td>-0.206993<\/td>\n",
              "      <td>1.0<\/td>\n",
              "      <td>0.000000<\/td>\n",
              "    <\/tr>\n",
              "    <tr>\n",
              "      <th>1<\/th>\n",
              "      <td>-2.117138<\/td>\n",
              "      <td>1.0<\/td>\n",
              "      <td>0.816497<\/td>\n",
              "      <td>0.454038<\/td>\n",
              "      <td>0.159591<\/td>\n",
              "      <td>0.0<\/td>\n",
              "      <td>0.397544<\/td>\n",
              "    <\/tr>\n",
              "    <tr>\n",
              "      <th>2<\/th>\n",
              "      <td>-1.529863<\/td>\n",
              "      <td>0.0<\/td>\n",
              "      <td>0.577350<\/td>\n",
              "      <td>0.454038<\/td>\n",
              "      <td>-0.864692<\/td>\n",
              "      <td>0.0<\/td>\n",
              "      <td>0.000000<\/td>\n",
              "    <\/tr>\n",
              "    <tr>\n",
              "      <th>3<\/th>\n",
              "      <td>0.253797<\/td>\n",
              "      <td>1.0<\/td>\n",
              "      <td>0.577350<\/td>\n",
              "      <td>0.335019<\/td>\n",
              "      <td>-0.141353<\/td>\n",
              "      <td>0.0<\/td>\n",
              "      <td>0.397544<\/td>\n",
              "    <\/tr>\n",
              "    <tr>\n",
              "      <th>4<\/th>\n",
              "      <td>0.355054<\/td>\n",
              "      <td>0.0<\/td>\n",
              "      <td>0.000000<\/td>\n",
              "      <td>0.335019<\/td>\n",
              "      <td>2.100829<\/td>\n",
              "      <td>0.0<\/td>\n",
              "      <td>0.397544<\/td>\n",
              "    <\/tr>\n",
              "    <tr>\n",
              "      <th>5<\/th>\n",
              "      <td>0.355054<\/td>\n",
              "      <td>1.0<\/td>\n",
              "      <td>0.000000<\/td>\n",
              "      <td>0.568560<\/td>\n",
              "      <td>-1.150460<\/td>\n",
              "      <td>0.0<\/td>\n",
              "      <td>0.397544<\/td>\n",
              "    <\/tr>\n",
              "    <tr>\n",
              "      <th>6<\/th>\n",
              "      <td>0.253797<\/td>\n",
              "      <td>0.0<\/td>\n",
              "      <td>0.577350<\/td>\n",
              "      <td>0.568560<\/td>\n",
              "      <td>1.054214<\/td>\n",
              "      <td>0.0<\/td>\n",
              "      <td>0.000000<\/td>\n",
              "    <\/tr>\n",
              "    <tr>\n",
              "      <th>7<\/th>\n",
              "      <td>-1.125867<\/td>\n",
              "      <td>1.0<\/td>\n",
              "      <td>0.577350<\/td>\n",
              "      <td>0.335019<\/td>\n",
              "      <td>0.431579<\/td>\n",
              "      <td>0.0<\/td>\n",
              "      <td>0.397544<\/td>\n",
              "    <\/tr>\n",
              "    <tr>\n",
              "      <th>8<\/th>\n",
              "      <td>-0.170168<\/td>\n",
              "      <td>1.0<\/td>\n",
              "      <td>0.816497<\/td>\n",
              "      <td>0.909866<\/td>\n",
              "      <td>-0.982712<\/td>\n",
              "      <td>1.0<\/td>\n",
              "      <td>0.397544<\/td>\n",
              "    <\/tr>\n",
              "    <tr>\n",
              "      <th>9<\/th>\n",
              "      <td>0.355054<\/td>\n",
              "      <td>1.0<\/td>\n",
              "      <td>0.816497<\/td>\n",
              "      <td>0.679061<\/td>\n",
              "      <td>-1.750157<\/td>\n",
              "      <td>0.0<\/td>\n",
              "      <td>0.397544<\/td>\n",
              "    <\/tr>\n",
              "  <\/tbody>\n",
              "<\/table>\n",
              "<\/div>"
            ]
          },
          "metadata":{
            
          },
          "output_type":"display_data"
        }
      ],
      "metadata":{
        
      }
    },
    {
      "cell_type":"code",
      "source":[
        "data = brave_heart_dataset['thalach']\n",
        "plt.hist(data, bins = 50)\n",
        "plt.show()"
      ],
      "execution_count":31,
      "outputs":[
        {
          "data":{
            "image\/png":"[encoded data removed]"
          },
          "metadata":{
            "image\/png":{
              "width":0,
              "height":0
            }
          },
          "output_type":"display_data"
        }
      ],
      "metadata":{
        
      }
    },
    {
      "cell_type":"code",
      "source":[
        "data = np.clip(data, 80, 210)\n",
        "plt.hist(data, bins = 50)\n",
        "plt.show()"
      ],
      "execution_count":32,
      "outputs":[
        {
          "data":{
            "image\/png":"[encoded data removed]"
          },
          "metadata":{
            "image\/png":{
              "width":0,
              "height":0
            }
          },
          "output_type":"display_data"
        }
      ],
      "metadata":{
        
      }
    },
    {
      "cell_type":"code",
      "source":[
        "data = data.replace(0, data.mean())\n",
        "plt.hist(data, bins = 50)\n",
        "plt.show()"
      ],
      "execution_count":33,
      "outputs":[
        {
          "data":{
            "image\/png":"[encoded data removed]"
          },
          "metadata":{
            "image\/png":{
              "width":0,
              "height":0
            }
          },
          "output_type":"display_data"
        }
      ],
      "metadata":{
        
      }
    },
    {
      "cell_type":"code",
      "source":[
        "plt.hist(data ** 0.5, bins = 50)\n",
        "plt.show()\n",
        "plt.hist(np.log(data), bins = 50)\n",
        "plt.show()"
      ],
      "execution_count":34,
      "outputs":[
        {
          "data":{
            "image\/png":"[encoded data removed]"
          },
          "metadata":{
            "image\/png":{
              "width":0,
              "height":0
            }
          },
          "output_type":"display_data"
        }
      ],
      "metadata":{
        
      }
    },
    {
      "cell_type":"code",
      "source":[
        "data = np.array(np.log(data)).reshape(-1, 1)\n",
        "dataset['thalach'] = StandardScaler().fit_transform(data).flatten()\n",
        "dataset.head(10)"
      ],
      "execution_count":35,
      "outputs":[
        {
          "data":{
            "text\/html":[
              "<div>\n",
              "<style scoped>\n",
              "    .dataframe tbody tr th:only-of-type {\n",
              "        vertical-align: middle;\n",
              "    }\n",
              "\n",
              "    .dataframe tbody tr th {\n",
              "        vertical-align: top;\n",
              "    }\n",
              "\n",
              "    .dataframe thead th {\n",
              "        text-align: right;\n",
              "    }\n",
              "<\/style>\n",
              "<table border=\"1\" class=\"dataframe\">\n",
              "  <thead>\n",
              "    <tr style=\"text-align: right;\">\n",
              "      <th><\/th>\n",
              "      <th>age<\/th>\n",
              "      <th>sex<\/th>\n",
              "      <th>cp<\/th>\n",
              "      <th>trestbps<\/th>\n",
              "      <th>chol<\/th>\n",
              "      <th>fbs<\/th>\n",
              "      <th>restecg<\/th>\n",
              "      <th>thalach<\/th>\n",
              "    <\/tr>\n",
              "  <\/thead>\n",
              "  <tbody>\n",
              "    <tr>\n",
              "      <th>0<\/th>\n",
              "      <td>0.927622<\/td>\n",
              "      <td>1.0<\/td>\n",
              "      <td>1.000000<\/td>\n",
              "      <td>0.624287<\/td>\n",
              "      <td>-0.206993<\/td>\n",
              "      <td>1.0<\/td>\n",
              "      <td>0.000000<\/td>\n",
              "      <td>0.090789<\/td>\n",
              "    <\/tr>\n",
              "    <tr>\n",
              "      <th>1<\/th>\n",
              "      <td>-2.117138<\/td>\n",
              "      <td>1.0<\/td>\n",
              "      <td>0.816497<\/td>\n",
              "      <td>0.454038<\/td>\n",
              "      <td>0.159591<\/td>\n",
              "      <td>0.0<\/td>\n",
              "      <td>0.397544<\/td>\n",
              "      <td>1.444548<\/td>\n",
              "    <\/tr>\n",
              "    <tr>\n",
              "      <th>2<\/th>\n",
              "      <td>-1.529863<\/td>\n",
              "      <td>0.0<\/td>\n",
              "      <td>0.577350<\/td>\n",
              "      <td>0.454038<\/td>\n",
              "      <td>-0.864692<\/td>\n",
              "      <td>0.0<\/td>\n",
              "      <td>0.000000<\/td>\n",
              "      <td>0.931137<\/td>\n",
              "    <\/tr>\n",
              "    <tr>\n",
              "      <th>3<\/th>\n",
              "      <td>0.253797<\/td>\n",
              "      <td>1.0<\/td>\n",
              "      <td>0.577350<\/td>\n",
              "      <td>0.335019<\/td>\n",
              "      <td>-0.141353<\/td>\n",
              "      <td>0.0<\/td>\n",
              "      <td>0.397544<\/td>\n",
              "      <td>1.141680<\/td>\n",
              "    <\/tr>\n",
              "    <tr>\n",
              "      <th>4<\/th>\n",
              "      <td>0.355054<\/td>\n",
              "      <td>0.0<\/td>\n",
              "      <td>0.000000<\/td>\n",
              "      <td>0.335019<\/td>\n",
              "      <td>2.100829<\/td>\n",
              "      <td>0.0<\/td>\n",
              "      <td>0.397544<\/td>\n",
              "      <td>0.601134<\/td>\n",
              "    <\/tr>\n",
              "    <tr>\n",
              "      <th>5<\/th>\n",
              "      <td>0.355054<\/td>\n",
              "      <td>1.0<\/td>\n",
              "      <td>0.000000<\/td>\n",
              "      <td>0.568560<\/td>\n",
              "      <td>-1.150460<\/td>\n",
              "      <td>0.0<\/td>\n",
              "      <td>0.397544<\/td>\n",
              "      <td>0.008368<\/td>\n",
              "    <\/tr>\n",
              "    <tr>\n",
              "      <th>6<\/th>\n",
              "      <td>0.253797<\/td>\n",
              "      <td>0.0<\/td>\n",
              "      <td>0.577350<\/td>\n",
              "      <td>0.568560<\/td>\n",
              "      <td>1.054214<\/td>\n",
              "      <td>0.0<\/td>\n",
              "      <td>0.000000<\/td>\n",
              "      <td>0.212382<\/td>\n",
              "    <\/tr>\n",
              "    <tr>\n",
              "      <th>7<\/th>\n",
              "      <td>-1.125867<\/td>\n",
              "      <td>1.0<\/td>\n",
              "      <td>0.577350<\/td>\n",
              "      <td>0.335019<\/td>\n",
              "      <td>0.431579<\/td>\n",
              "      <td>0.0<\/td>\n",
              "      <td>0.397544<\/td>\n",
              "      <td>0.966733<\/td>\n",
              "    <\/tr>\n",
              "    <tr>\n",
              "      <th>8<\/th>\n",
              "      <td>-0.170168<\/td>\n",
              "      <td>1.0<\/td>\n",
              "      <td>0.816497<\/td>\n",
              "      <td>0.909866<\/td>\n",
              "      <td>-0.982712<\/td>\n",
              "      <td>1.0<\/td>\n",
              "      <td>0.397544<\/td>\n",
              "      <td>0.563348<\/td>\n",
              "    <\/tr>\n",
              "    <tr>\n",
              "      <th>9<\/th>\n",
              "      <td>0.355054<\/td>\n",
              "      <td>1.0<\/td>\n",
              "      <td>0.816497<\/td>\n",
              "      <td>0.679061<\/td>\n",
              "      <td>-1.750157<\/td>\n",
              "      <td>0.0<\/td>\n",
              "      <td>0.397544<\/td>\n",
              "      <td>1.002123<\/td>\n",
              "    <\/tr>\n",
              "  <\/tbody>\n",
              "<\/table>\n",
              "<\/div>"
            ]
          },
          "metadata":{
            
          },
          "output_type":"display_data"
        }
      ],
      "metadata":{
        
      }
    },
    {
      "cell_type":"code",
      "source":[
        "data = brave_heart_dataset['exang']\n",
        "plt.hist(data, bins = 50)\n",
        "plt.show()"
      ],
      "execution_count":36,
      "outputs":[
        {
          "data":{
            "image\/png":"[encoded data removed]"
          },
          "metadata":{
            "image\/png":{
              "width":0,
              "height":0
            }
          },
          "output_type":"display_data"
        }
      ],
      "metadata":{
        
      }
    },
    {
      "cell_type":"code",
      "source":[
        "data = np.array(data ** 0.5).reshape(-1, 1)\n",
        "dataset['exang'] = MinMaxScaler().fit_transform(data).flatten()\n",
        "dataset.head(10)"
      ],
      "execution_count":37,
      "outputs":[
        {
          "data":{
            "text\/html":[
              "<div>\n",
              "<style scoped>\n",
              "    .dataframe tbody tr th:only-of-type {\n",
              "        vertical-align: middle;\n",
              "    }\n",
              "\n",
              "    .dataframe tbody tr th {\n",
              "        vertical-align: top;\n",
              "    }\n",
              "\n",
              "    .dataframe thead th {\n",
              "        text-align: right;\n",
              "    }\n",
              "<\/style>\n",
              "<table border=\"1\" class=\"dataframe\">\n",
              "  <thead>\n",
              "    <tr style=\"text-align: right;\">\n",
              "      <th><\/th>\n",
              "      <th>age<\/th>\n",
              "      <th>sex<\/th>\n",
              "      <th>cp<\/th>\n",
              "      <th>trestbps<\/th>\n",
              "      <th>chol<\/th>\n",
              "      <th>fbs<\/th>\n",
              "      <th>restecg<\/th>\n",
              "      <th>thalach<\/th>\n",
              "      <th>exang<\/th>\n",
              "    <\/tr>\n",
              "  <\/thead>\n",
              "  <tbody>\n",
              "    <tr>\n",
              "      <th>0<\/th>\n",
              "      <td>0.927622<\/td>\n",
              "      <td>1.0<\/td>\n",
              "      <td>1.000000<\/td>\n",
              "      <td>0.624287<\/td>\n",
              "      <td>-0.206993<\/td>\n",
              "      <td>1.0<\/td>\n",
              "      <td>0.000000<\/td>\n",
              "      <td>0.090789<\/td>\n",
              "      <td>0.0<\/td>\n",
              "    <\/tr>\n",
              "    <tr>\n",
              "      <th>1<\/th>\n",
              "      <td>-2.117138<\/td>\n",
              "      <td>1.0<\/td>\n",
              "      <td>0.816497<\/td>\n",
              "      <td>0.454038<\/td>\n",
              "      <td>0.159591<\/td>\n",
              "      <td>0.0<\/td>\n",
              "      <td>0.397544<\/td>\n",
              "      <td>1.444548<\/td>\n",
              "      <td>0.0<\/td>\n",
              "    <\/tr>\n",
              "    <tr>\n",
              "      <th>2<\/th>\n",
              "      <td>-1.529863<\/td>\n",
              "      <td>0.0<\/td>\n",
              "      <td>0.577350<\/td>\n",
              "      <td>0.454038<\/td>\n",
              "      <td>-0.864692<\/td>\n",
              "      <td>0.0<\/td>\n",
              "      <td>0.000000<\/td>\n",
              "      <td>0.931137<\/td>\n",
              "      <td>0.0<\/td>\n",
              "    <\/tr>\n",
              "    <tr>\n",
              "      <th>3<\/th>\n",
              "      <td>0.253797<\/td>\n",
              "      <td>1.0<\/td>\n",
              "      <td>0.577350<\/td>\n",
              "      <td>0.335019<\/td>\n",
              "      <td>-0.141353<\/td>\n",
              "      <td>0.0<\/td>\n",
              "      <td>0.397544<\/td>\n",
              "      <td>1.141680<\/td>\n",
              "      <td>0.0<\/td>\n",
              "    <\/tr>\n",
              "    <tr>\n",
              "      <th>4<\/th>\n",
              "      <td>0.355054<\/td>\n",
              "      <td>0.0<\/td>\n",
              "      <td>0.000000<\/td>\n",
              "      <td>0.335019<\/td>\n",
              "      <td>2.100829<\/td>\n",
              "      <td>0.0<\/td>\n",
              "      <td>0.397544<\/td>\n",
              "      <td>0.601134<\/td>\n",
              "      <td>1.0<\/td>\n",
              "    <\/tr>\n",
              "    <tr>\n",
              "      <th>5<\/th>\n",
              "      <td>0.355054<\/td>\n",
              "      <td>1.0<\/td>\n",
              "      <td>0.000000<\/td>\n",
              "      <td>0.568560<\/td>\n",
              "      <td>-1.150460<\/td>\n",
              "      <td>0.0<\/td>\n",
              "      <td>0.397544<\/td>\n",
              "      <td>0.008368<\/td>\n",
              "      <td>0.0<\/td>\n",
              "    <\/tr>\n",
              "    <tr>\n",
              "      <th>6<\/th>\n",
              "      <td>0.253797<\/td>\n",
              "      <td>0.0<\/td>\n",
              "      <td>0.577350<\/td>\n",
              "      <td>0.568560<\/td>\n",
              "      <td>1.054214<\/td>\n",
              "      <td>0.0<\/td>\n",
              "      <td>0.000000<\/td>\n",
              "      <td>0.212382<\/td>\n",
              "      <td>0.0<\/td>\n",
              "    <\/tr>\n",
              "    <tr>\n",
              "      <th>7<\/th>\n",
              "      <td>-1.125867<\/td>\n",
              "      <td>1.0<\/td>\n",
              "      <td>0.577350<\/td>\n",
              "      <td>0.335019<\/td>\n",
              "      <td>0.431579<\/td>\n",
              "      <td>0.0<\/td>\n",
              "      <td>0.397544<\/td>\n",
              "      <td>0.966733<\/td>\n",
              "      <td>0.0<\/td>\n",
              "    <\/tr>\n",
              "    <tr>\n",
              "      <th>8<\/th>\n",
              "      <td>-0.170168<\/td>\n",
              "      <td>1.0<\/td>\n",
              "      <td>0.816497<\/td>\n",
              "      <td>0.909866<\/td>\n",
              "      <td>-0.982712<\/td>\n",
              "      <td>1.0<\/td>\n",
              "      <td>0.397544<\/td>\n",
              "      <td>0.563348<\/td>\n",
              "      <td>0.0<\/td>\n",
              "    <\/tr>\n",
              "    <tr>\n",
              "      <th>9<\/th>\n",
              "      <td>0.355054<\/td>\n",
              "      <td>1.0<\/td>\n",
              "      <td>0.816497<\/td>\n",
              "      <td>0.679061<\/td>\n",
              "      <td>-1.750157<\/td>\n",
              "      <td>0.0<\/td>\n",
              "      <td>0.397544<\/td>\n",
              "      <td>1.002123<\/td>\n",
              "      <td>0.0<\/td>\n",
              "    <\/tr>\n",
              "  <\/tbody>\n",
              "<\/table>\n",
              "<\/div>"
            ]
          },
          "metadata":{
            
          },
          "output_type":"display_data"
        }
      ],
      "metadata":{
        
      }
    },
    {
      "cell_type":"code",
      "source":[
        "data = brave_heart_dataset['oldpeak']\n",
        "plt.hist(data, bins = 50)\n",
        "plt.show()"
      ],
      "execution_count":38,
      "outputs":[
        {
          "data":{
            "image\/png":"[encoded data removed]"
          },
          "metadata":{
            "image\/png":{
              "width":0,
              "height":0
            }
          },
          "output_type":"display_data"
        }
      ],
      "metadata":{
        
      }
    },
    {
      "cell_type":"code",
      "source":[
        "data = data.replace(0, data.mean())\n",
        "plt.hist(data, bins = 50)\n",
        "plt.show()"
      ],
      "execution_count":39,
      "outputs":[
        {
          "data":{
            "image\/png":"[encoded data removed]"
          },
          "metadata":{
            "image\/png":{
              "width":0,
              "height":0
            }
          },
          "output_type":"display_data"
        }
      ],
      "metadata":{
        
      }
    },
    {
      "cell_type":"code",
      "source":[
        "plt.hist(data ** 0.5, bins = 50)\n",
        "plt.show()\n",
        "plt.hist(np.log(data), bins = 50)\n",
        "plt.show()"
      ],
      "execution_count":40,
      "outputs":[
        {
          "data":{
            "image\/png":"[encoded data removed]"
          },
          "metadata":{
            "image\/png":{
              "width":0,
              "height":0
            }
          },
          "output_type":"display_data"
        }
      ],
      "metadata":{
        
      }
    },
    {
      "cell_type":"code",
      "source":[
        "data = np.array(data ** 0.5).reshape(-1, 1)\n",
        "dataset['oldpeak'] = MinMaxScaler().fit_transform(data).flatten()\n",
        "dataset.head(10)"
      ],
      "execution_count":41,
      "outputs":[
        {
          "data":{
            "text\/html":[
              "<div>\n",
              "<style scoped>\n",
              "    .dataframe tbody tr th:only-of-type {\n",
              "        vertical-align: middle;\n",
              "    }\n",
              "\n",
              "    .dataframe tbody tr th {\n",
              "        vertical-align: top;\n",
              "    }\n",
              "\n",
              "    .dataframe thead th {\n",
              "        text-align: right;\n",
              "    }\n",
              "<\/style>\n",
              "<table border=\"1\" class=\"dataframe\">\n",
              "  <thead>\n",
              "    <tr style=\"text-align: right;\">\n",
              "      <th><\/th>\n",
              "      <th>age<\/th>\n",
              "      <th>sex<\/th>\n",
              "      <th>cp<\/th>\n",
              "      <th>trestbps<\/th>\n",
              "      <th>chol<\/th>\n",
              "      <th>fbs<\/th>\n",
              "      <th>restecg<\/th>\n",
              "      <th>thalach<\/th>\n",
              "      <th>exang<\/th>\n",
              "      <th>oldpeak<\/th>\n",
              "    <\/tr>\n",
              "  <\/thead>\n",
              "  <tbody>\n",
              "    <tr>\n",
              "      <th>0<\/th>\n",
              "      <td>0.927622<\/td>\n",
              "      <td>1.0<\/td>\n",
              "      <td>1.000000<\/td>\n",
              "      <td>0.624287<\/td>\n",
              "      <td>-0.206993<\/td>\n",
              "      <td>1.0<\/td>\n",
              "      <td>0.000000<\/td>\n",
              "      <td>0.090789<\/td>\n",
              "      <td>0.0<\/td>\n",
              "      <td>0.552201<\/td>\n",
              "    <\/tr>\n",
              "    <tr>\n",
              "      <th>1<\/th>\n",
              "      <td>-2.117138<\/td>\n",
              "      <td>1.0<\/td>\n",
              "      <td>0.816497<\/td>\n",
              "      <td>0.454038<\/td>\n",
              "      <td>0.159591<\/td>\n",
              "      <td>0.0<\/td>\n",
              "      <td>0.397544<\/td>\n",
              "      <td>1.444548<\/td>\n",
              "      <td>0.0<\/td>\n",
              "      <td>0.715169<\/td>\n",
              "    <\/tr>\n",
              "    <tr>\n",
              "      <th>2<\/th>\n",
              "      <td>-1.529863<\/td>\n",
              "      <td>0.0<\/td>\n",
              "      <td>0.577350<\/td>\n",
              "      <td>0.454038<\/td>\n",
              "      <td>-0.864692<\/td>\n",
              "      <td>0.0<\/td>\n",
              "      <td>0.000000<\/td>\n",
              "      <td>0.931137<\/td>\n",
              "      <td>0.0<\/td>\n",
              "      <td>0.398844<\/td>\n",
              "    <\/tr>\n",
              "    <tr>\n",
              "      <th>3<\/th>\n",
              "      <td>0.253797<\/td>\n",
              "      <td>1.0<\/td>\n",
              "      <td>0.577350<\/td>\n",
              "      <td>0.335019<\/td>\n",
              "      <td>-0.141353<\/td>\n",
              "      <td>0.0<\/td>\n",
              "      <td>0.397544<\/td>\n",
              "      <td>1.141680<\/td>\n",
              "      <td>0.0<\/td>\n",
              "      <td>0.265991<\/td>\n",
              "    <\/tr>\n",
              "    <tr>\n",
              "      <th>4<\/th>\n",
              "      <td>0.355054<\/td>\n",
              "      <td>0.0<\/td>\n",
              "      <td>0.000000<\/td>\n",
              "      <td>0.335019<\/td>\n",
              "      <td>2.100829<\/td>\n",
              "      <td>0.0<\/td>\n",
              "      <td>0.397544<\/td>\n",
              "      <td>0.601134<\/td>\n",
              "      <td>1.0<\/td>\n",
              "      <td>0.210865<\/td>\n",
              "    <\/tr>\n",
              "    <tr>\n",
              "      <th>5<\/th>\n",
              "      <td>0.355054<\/td>\n",
              "      <td>1.0<\/td>\n",
              "      <td>0.000000<\/td>\n",
              "      <td>0.568560<\/td>\n",
              "      <td>-1.150460<\/td>\n",
              "      <td>0.0<\/td>\n",
              "      <td>0.397544<\/td>\n",
              "      <td>0.008368<\/td>\n",
              "      <td>0.0<\/td>\n",
              "      <td>0.145476<\/td>\n",
              "    <\/tr>\n",
              "    <tr>\n",
              "      <th>6<\/th>\n",
              "      <td>0.253797<\/td>\n",
              "      <td>0.0<\/td>\n",
              "      <td>0.577350<\/td>\n",
              "      <td>0.568560<\/td>\n",
              "      <td>1.054214<\/td>\n",
              "      <td>0.0<\/td>\n",
              "      <td>0.000000<\/td>\n",
              "      <td>0.212382<\/td>\n",
              "      <td>0.0<\/td>\n",
              "      <td>0.379044<\/td>\n",
              "    <\/tr>\n",
              "    <tr>\n",
              "      <th>7<\/th>\n",
              "      <td>-1.125867<\/td>\n",
              "      <td>1.0<\/td>\n",
              "      <td>0.577350<\/td>\n",
              "      <td>0.335019<\/td>\n",
              "      <td>0.431579<\/td>\n",
              "      <td>0.0<\/td>\n",
              "      <td>0.397544<\/td>\n",
              "      <td>0.966733<\/td>\n",
              "      <td>0.0<\/td>\n",
              "      <td>0.323580<\/td>\n",
              "    <\/tr>\n",
              "    <tr>\n",
              "      <th>8<\/th>\n",
              "      <td>-0.170168<\/td>\n",
              "      <td>1.0<\/td>\n",
              "      <td>0.816497<\/td>\n",
              "      <td>0.909866<\/td>\n",
              "      <td>-0.982712<\/td>\n",
              "      <td>1.0<\/td>\n",
              "      <td>0.397544<\/td>\n",
              "      <td>0.563348<\/td>\n",
              "      <td>0.0<\/td>\n",
              "      <td>0.179818<\/td>\n",
              "    <\/tr>\n",
              "    <tr>\n",
              "      <th>9<\/th>\n",
              "      <td>0.355054<\/td>\n",
              "      <td>1.0<\/td>\n",
              "      <td>0.816497<\/td>\n",
              "      <td>0.679061<\/td>\n",
              "      <td>-1.750157<\/td>\n",
              "      <td>0.0<\/td>\n",
              "      <td>0.397544<\/td>\n",
              "      <td>1.002123<\/td>\n",
              "      <td>0.0<\/td>\n",
              "      <td>0.436427<\/td>\n",
              "    <\/tr>\n",
              "  <\/tbody>\n",
              "<\/table>\n",
              "<\/div>"
            ]
          },
          "metadata":{
            
          },
          "output_type":"display_data"
        }
      ],
      "metadata":{
        
      }
    },
    {
      "cell_type":"code",
      "source":[
        "data = brave_heart_dataset['slope']\n",
        "plt.hist(data, bins = 50)\n",
        "plt.show()"
      ],
      "execution_count":42,
      "outputs":[
        {
          "data":{
            "image\/png":"[encoded data removed]"
          },
          "metadata":{
            "image\/png":{
              "width":0,
              "height":0
            }
          },
          "output_type":"display_data"
        }
      ],
      "metadata":{
        
      }
    },
    {
      "cell_type":"code",
      "source":[
        "data = np.clip(data, 0, 100000)\n",
        "plt.hist(data, bins = 50)\n",
        "plt.show()"
      ],
      "execution_count":43,
      "outputs":[
        {
          "data":{
            "image\/png":"[encoded data removed]"
          },
          "metadata":{
            "image\/png":{
              "width":0,
              "height":0
            }
          },
          "output_type":"display_data"
        }
      ],
      "metadata":{
        
      }
    },
    {
      "cell_type":"code",
      "source":[
        "plt.hist(data ** 0.5, bins = 50)\n",
        "plt.show()"
      ],
      "execution_count":44,
      "outputs":[
        {
          "data":{
            "image\/png":"[encoded data removed]"
          },
          "metadata":{
            "image\/png":{
              "width":0,
              "height":0
            }
          },
          "output_type":"display_data"
        }
      ],
      "metadata":{
        
      }
    },
    {
      "cell_type":"code",
      "source":[
        "data = np.array(data ** 0.5).reshape(-1, 1)\n",
        "dataset['slope'] = MinMaxScaler().fit_transform(data).flatten()\n",
        "dataset.head(10)"
      ],
      "execution_count":45,
      "outputs":[
        {
          "data":{
            "text\/html":[
              "<div>\n",
              "<style scoped>\n",
              "    .dataframe tbody tr th:only-of-type {\n",
              "        vertical-align: middle;\n",
              "    }\n",
              "\n",
              "    .dataframe tbody tr th {\n",
              "        vertical-align: top;\n",
              "    }\n",
              "\n",
              "    .dataframe thead th {\n",
              "        text-align: right;\n",
              "    }\n",
              "<\/style>\n",
              "<table border=\"1\" class=\"dataframe\">\n",
              "  <thead>\n",
              "    <tr style=\"text-align: right;\">\n",
              "      <th><\/th>\n",
              "      <th>age<\/th>\n",
              "      <th>sex<\/th>\n",
              "      <th>cp<\/th>\n",
              "      <th>trestbps<\/th>\n",
              "      <th>chol<\/th>\n",
              "      <th>fbs<\/th>\n",
              "      <th>restecg<\/th>\n",
              "      <th>thalach<\/th>\n",
              "      <th>exang<\/th>\n",
              "      <th>oldpeak<\/th>\n",
              "      <th>slope<\/th>\n",
              "    <\/tr>\n",
              "  <\/thead>\n",
              "  <tbody>\n",
              "    <tr>\n",
              "      <th>0<\/th>\n",
              "      <td>0.927622<\/td>\n",
              "      <td>1.0<\/td>\n",
              "      <td>1.000000<\/td>\n",
              "      <td>0.624287<\/td>\n",
              "      <td>-0.206993<\/td>\n",
              "      <td>1.0<\/td>\n",
              "      <td>0.000000<\/td>\n",
              "      <td>0.090789<\/td>\n",
              "      <td>0.0<\/td>\n",
              "      <td>0.552201<\/td>\n",
              "      <td>0.000000<\/td>\n",
              "    <\/tr>\n",
              "    <tr>\n",
              "      <th>1<\/th>\n",
              "      <td>-2.117138<\/td>\n",
              "      <td>1.0<\/td>\n",
              "      <td>0.816497<\/td>\n",
              "      <td>0.454038<\/td>\n",
              "      <td>0.159591<\/td>\n",
              "      <td>0.0<\/td>\n",
              "      <td>0.397544<\/td>\n",
              "      <td>1.444548<\/td>\n",
              "      <td>0.0<\/td>\n",
              "      <td>0.715169<\/td>\n",
              "      <td>0.000000<\/td>\n",
              "    <\/tr>\n",
              "    <tr>\n",
              "      <th>2<\/th>\n",
              "      <td>-1.529863<\/td>\n",
              "      <td>0.0<\/td>\n",
              "      <td>0.577350<\/td>\n",
              "      <td>0.454038<\/td>\n",
              "      <td>-0.864692<\/td>\n",
              "      <td>0.0<\/td>\n",
              "      <td>0.000000<\/td>\n",
              "      <td>0.931137<\/td>\n",
              "      <td>0.0<\/td>\n",
              "      <td>0.398844<\/td>\n",
              "      <td>1.000000<\/td>\n",
              "    <\/tr>\n",
              "    <tr>\n",
              "      <th>3<\/th>\n",
              "      <td>0.253797<\/td>\n",
              "      <td>1.0<\/td>\n",
              "      <td>0.577350<\/td>\n",
              "      <td>0.335019<\/td>\n",
              "      <td>-0.141353<\/td>\n",
              "      <td>0.0<\/td>\n",
              "      <td>0.397544<\/td>\n",
              "      <td>1.141680<\/td>\n",
              "      <td>0.0<\/td>\n",
              "      <td>0.265991<\/td>\n",
              "      <td>1.000000<\/td>\n",
              "    <\/tr>\n",
              "    <tr>\n",
              "      <th>4<\/th>\n",
              "      <td>0.355054<\/td>\n",
              "      <td>0.0<\/td>\n",
              "      <td>0.000000<\/td>\n",
              "      <td>0.335019<\/td>\n",
              "      <td>2.100829<\/td>\n",
              "      <td>0.0<\/td>\n",
              "      <td>0.397544<\/td>\n",
              "      <td>0.601134<\/td>\n",
              "      <td>1.0<\/td>\n",
              "      <td>0.210865<\/td>\n",
              "      <td>1.000000<\/td>\n",
              "    <\/tr>\n",
              "    <tr>\n",
              "      <th>5<\/th>\n",
              "      <td>0.355054<\/td>\n",
              "      <td>1.0<\/td>\n",
              "      <td>0.000000<\/td>\n",
              "      <td>0.568560<\/td>\n",
              "      <td>-1.150460<\/td>\n",
              "      <td>0.0<\/td>\n",
              "      <td>0.397544<\/td>\n",
              "      <td>0.008368<\/td>\n",
              "      <td>0.0<\/td>\n",
              "      <td>0.145476<\/td>\n",
              "      <td>0.707107<\/td>\n",
              "    <\/tr>\n",
              "    <tr>\n",
              "      <th>6<\/th>\n",
              "      <td>0.253797<\/td>\n",
              "      <td>0.0<\/td>\n",
              "      <td>0.577350<\/td>\n",
              "      <td>0.568560<\/td>\n",
              "      <td>1.054214<\/td>\n",
              "      <td>0.0<\/td>\n",
              "      <td>0.000000<\/td>\n",
              "      <td>0.212382<\/td>\n",
              "      <td>0.0<\/td>\n",
              "      <td>0.379044<\/td>\n",
              "      <td>0.707107<\/td>\n",
              "    <\/tr>\n",
              "    <tr>\n",
              "      <th>7<\/th>\n",
              "      <td>-1.125867<\/td>\n",
              "      <td>1.0<\/td>\n",
              "      <td>0.577350<\/td>\n",
              "      <td>0.335019<\/td>\n",
              "      <td>0.431579<\/td>\n",
              "      <td>0.0<\/td>\n",
              "      <td>0.397544<\/td>\n",
              "      <td>0.966733<\/td>\n",
              "      <td>0.0<\/td>\n",
              "      <td>0.323580<\/td>\n",
              "      <td>1.000000<\/td>\n",
              "    <\/tr>\n",
              "    <tr>\n",
              "      <th>8<\/th>\n",
              "      <td>-0.170168<\/td>\n",
              "      <td>1.0<\/td>\n",
              "      <td>0.816497<\/td>\n",
              "      <td>0.909866<\/td>\n",
              "      <td>-0.982712<\/td>\n",
              "      <td>1.0<\/td>\n",
              "      <td>0.397544<\/td>\n",
              "      <td>0.563348<\/td>\n",
              "      <td>0.0<\/td>\n",
              "      <td>0.179818<\/td>\n",
              "      <td>1.000000<\/td>\n",
              "    <\/tr>\n",
              "    <tr>\n",
              "      <th>9<\/th>\n",
              "      <td>0.355054<\/td>\n",
              "      <td>1.0<\/td>\n",
              "      <td>0.816497<\/td>\n",
              "      <td>0.679061<\/td>\n",
              "      <td>-1.750157<\/td>\n",
              "      <td>0.0<\/td>\n",
              "      <td>0.397544<\/td>\n",
              "      <td>1.002123<\/td>\n",
              "      <td>0.0<\/td>\n",
              "      <td>0.436427<\/td>\n",
              "      <td>1.000000<\/td>\n",
              "    <\/tr>\n",
              "  <\/tbody>\n",
              "<\/table>\n",
              "<\/div>"
            ]
          },
          "metadata":{
            
          },
          "output_type":"display_data"
        }
      ],
      "metadata":{
        
      }
    },
    {
      "cell_type":"code",
      "source":[
        "data = brave_heart_dataset['ca']\n",
        "plt.hist(data ** 0.5, bins = 50)\n",
        "plt.show()"
      ],
      "execution_count":46,
      "outputs":[
        {
          "data":{
            "image\/png":"[encoded data removed]"
          },
          "metadata":{
            "image\/png":{
              "width":0,
              "height":0
            }
          },
          "output_type":"display_data"
        }
      ],
      "metadata":{
        
      }
    },
    {
      "cell_type":"code",
      "source":[
        "data = np.array(data ** 0.5).reshape(-1, 1)\n",
        "dataset['ca'] = MinMaxScaler().fit_transform(data).flatten()\n",
        "dataset.head(10)"
      ],
      "execution_count":47,
      "outputs":[
        {
          "data":{
            "text\/html":[
              "<div>\n",
              "<style scoped>\n",
              "    .dataframe tbody tr th:only-of-type {\n",
              "        vertical-align: middle;\n",
              "    }\n",
              "\n",
              "    .dataframe tbody tr th {\n",
              "        vertical-align: top;\n",
              "    }\n",
              "\n",
              "    .dataframe thead th {\n",
              "        text-align: right;\n",
              "    }\n",
              "<\/style>\n",
              "<table border=\"1\" class=\"dataframe\">\n",
              "  <thead>\n",
              "    <tr style=\"text-align: right;\">\n",
              "      <th><\/th>\n",
              "      <th>age<\/th>\n",
              "      <th>sex<\/th>\n",
              "      <th>cp<\/th>\n",
              "      <th>trestbps<\/th>\n",
              "      <th>chol<\/th>\n",
              "      <th>fbs<\/th>\n",
              "      <th>restecg<\/th>\n",
              "      <th>thalach<\/th>\n",
              "      <th>exang<\/th>\n",
              "      <th>oldpeak<\/th>\n",
              "      <th>slope<\/th>\n",
              "      <th>ca<\/th>\n",
              "    <\/tr>\n",
              "  <\/thead>\n",
              "  <tbody>\n",
              "    <tr>\n",
              "      <th>0<\/th>\n",
              "      <td>0.927622<\/td>\n",
              "      <td>1.0<\/td>\n",
              "      <td>1.000000<\/td>\n",
              "      <td>0.624287<\/td>\n",
              "      <td>-0.206993<\/td>\n",
              "      <td>1.0<\/td>\n",
              "      <td>0.000000<\/td>\n",
              "      <td>0.090789<\/td>\n",
              "      <td>0.0<\/td>\n",
              "      <td>0.552201<\/td>\n",
              "      <td>0.000000<\/td>\n",
              "      <td>0.0<\/td>\n",
              "    <\/tr>\n",
              "    <tr>\n",
              "      <th>1<\/th>\n",
              "      <td>-2.117138<\/td>\n",
              "      <td>1.0<\/td>\n",
              "      <td>0.816497<\/td>\n",
              "      <td>0.454038<\/td>\n",
              "      <td>0.159591<\/td>\n",
              "      <td>0.0<\/td>\n",
              "      <td>0.397544<\/td>\n",
              "      <td>1.444548<\/td>\n",
              "      <td>0.0<\/td>\n",
              "      <td>0.715169<\/td>\n",
              "      <td>0.000000<\/td>\n",
              "      <td>0.0<\/td>\n",
              "    <\/tr>\n",
              "    <tr>\n",
              "      <th>2<\/th>\n",
              "      <td>-1.529863<\/td>\n",
              "      <td>0.0<\/td>\n",
              "      <td>0.577350<\/td>\n",
              "      <td>0.454038<\/td>\n",
              "      <td>-0.864692<\/td>\n",
              "      <td>0.0<\/td>\n",
              "      <td>0.000000<\/td>\n",
              "      <td>0.931137<\/td>\n",
              "      <td>0.0<\/td>\n",
              "      <td>0.398844<\/td>\n",
              "      <td>1.000000<\/td>\n",
              "      <td>0.0<\/td>\n",
              "    <\/tr>\n",
              "    <tr>\n",
              "      <th>3<\/th>\n",
              "      <td>0.253797<\/td>\n",
              "      <td>1.0<\/td>\n",
              "      <td>0.577350<\/td>\n",
              "      <td>0.335019<\/td>\n",
              "      <td>-0.141353<\/td>\n",
              "      <td>0.0<\/td>\n",
              "      <td>0.397544<\/td>\n",
              "      <td>1.141680<\/td>\n",
              "      <td>0.0<\/td>\n",
              "      <td>0.265991<\/td>\n",
              "      <td>1.000000<\/td>\n",
              "      <td>0.0<\/td>\n",
              "    <\/tr>\n",
              "    <tr>\n",
              "      <th>4<\/th>\n",
              "      <td>0.355054<\/td>\n",
              "      <td>0.0<\/td>\n",
              "      <td>0.000000<\/td>\n",
              "      <td>0.335019<\/td>\n",
              "      <td>2.100829<\/td>\n",
              "      <td>0.0<\/td>\n",
              "      <td>0.397544<\/td>\n",
              "      <td>0.601134<\/td>\n",
              "      <td>1.0<\/td>\n",
              "      <td>0.210865<\/td>\n",
              "      <td>1.000000<\/td>\n",
              "      <td>0.0<\/td>\n",
              "    <\/tr>\n",
              "    <tr>\n",
              "      <th>5<\/th>\n",
              "      <td>0.355054<\/td>\n",
              "      <td>1.0<\/td>\n",
              "      <td>0.000000<\/td>\n",
              "      <td>0.568560<\/td>\n",
              "      <td>-1.150460<\/td>\n",
              "      <td>0.0<\/td>\n",
              "      <td>0.397544<\/td>\n",
              "      <td>0.008368<\/td>\n",
              "      <td>0.0<\/td>\n",
              "      <td>0.145476<\/td>\n",
              "      <td>0.707107<\/td>\n",
              "      <td>0.0<\/td>\n",
              "    <\/tr>\n",
              "    <tr>\n",
              "      <th>6<\/th>\n",
              "      <td>0.253797<\/td>\n",
              "      <td>0.0<\/td>\n",
              "      <td>0.577350<\/td>\n",
              "      <td>0.568560<\/td>\n",
              "      <td>1.054214<\/td>\n",
              "      <td>0.0<\/td>\n",
              "      <td>0.000000<\/td>\n",
              "      <td>0.212382<\/td>\n",
              "      <td>0.0<\/td>\n",
              "      <td>0.379044<\/td>\n",
              "      <td>0.707107<\/td>\n",
              "      <td>0.0<\/td>\n",
              "    <\/tr>\n",
              "    <tr>\n",
              "      <th>7<\/th>\n",
              "      <td>-1.125867<\/td>\n",
              "      <td>1.0<\/td>\n",
              "      <td>0.577350<\/td>\n",
              "      <td>0.335019<\/td>\n",
              "      <td>0.431579<\/td>\n",
              "      <td>0.0<\/td>\n",
              "      <td>0.397544<\/td>\n",
              "      <td>0.966733<\/td>\n",
              "      <td>0.0<\/td>\n",
              "      <td>0.323580<\/td>\n",
              "      <td>1.000000<\/td>\n",
              "      <td>0.0<\/td>\n",
              "    <\/tr>\n",
              "    <tr>\n",
              "      <th>8<\/th>\n",
              "      <td>-0.170168<\/td>\n",
              "      <td>1.0<\/td>\n",
              "      <td>0.816497<\/td>\n",
              "      <td>0.909866<\/td>\n",
              "      <td>-0.982712<\/td>\n",
              "      <td>1.0<\/td>\n",
              "      <td>0.397544<\/td>\n",
              "      <td>0.563348<\/td>\n",
              "      <td>0.0<\/td>\n",
              "      <td>0.179818<\/td>\n",
              "      <td>1.000000<\/td>\n",
              "      <td>0.0<\/td>\n",
              "    <\/tr>\n",
              "    <tr>\n",
              "      <th>9<\/th>\n",
              "      <td>0.355054<\/td>\n",
              "      <td>1.0<\/td>\n",
              "      <td>0.816497<\/td>\n",
              "      <td>0.679061<\/td>\n",
              "      <td>-1.750157<\/td>\n",
              "      <td>0.0<\/td>\n",
              "      <td>0.397544<\/td>\n",
              "      <td>1.002123<\/td>\n",
              "      <td>0.0<\/td>\n",
              "      <td>0.436427<\/td>\n",
              "      <td>1.000000<\/td>\n",
              "      <td>0.0<\/td>\n",
              "    <\/tr>\n",
              "  <\/tbody>\n",
              "<\/table>\n",
              "<\/div>"
            ]
          },
          "metadata":{
            
          },
          "output_type":"display_data"
        }
      ],
      "metadata":{
        
      }
    },
    {
      "cell_type":"code",
      "source":[
        "data = brave_heart_dataset['num']\n",
        "plt.hist(data ** 0.5, bins = 50)\n",
        "plt.show()"
      ],
      "execution_count":48,
      "outputs":[
        {
          "data":{
            "image\/png":"[encoded data removed]"
          },
          "metadata":{
            "image\/png":{
              "width":0,
              "height":0
            }
          },
          "output_type":"display_data"
        }
      ],
      "metadata":{
        
      }
    },
    {
      "cell_type":"code",
      "source":[
        "data = np.array(data ** 0.5).reshape(-1, 1)\n",
        "dataset['num'] = MinMaxScaler().fit_transform(data).flatten()\n",
        "dataset.head(10)"
      ],
      "execution_count":0,
      "outputs":[
        
      ],
      "metadata":{
        
      }
    },
    {
      "cell_type":"code",
      "source":[
        "dataset.to_csv('prepared_data.csv', index=False)"
      ],
      "execution_count":0,
      "outputs":[
        
      ],
      "metadata":{
        
      }
    },
    {
      "cell_type":"code",
      "source":[
        
      ],
      "execution_count":0,
      "outputs":[
        
      ],
      "metadata":{
        
      }
    }
  ],
  "metadata":{
    
  },
  "nbformat":4,
  "nbformat_minor":0
}